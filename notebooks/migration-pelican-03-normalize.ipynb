{
  "cells": [
    {
      "cell_type": "markdown",
      "id": "683f1a9b-7b2a-4348-a6df-7a02fb5336ad",
      "metadata": {},
      "source": [
        "# Mapping migration\n",
        "\n",
        "Introduction to vector data operations\n",
        "\n",
        "## STEP 0: Set up\n",
        "\n",
        "To get started on this notebook, you’ll need to restore any variables\n",
        "from previous notebooks to your workspace. To save time and memory, make\n",
        "sure to specify which variables you want to load."
      ]
    },
    {
      "cell_type": "code",
      "execution_count": 44,
      "id": "654dde1d",
      "metadata": {},
      "outputs": [],
      "source": [
        "%store -r pelican_eco_gdf pelican_gdf"
      ]
    },
    {
      "cell_type": "markdown",
      "id": "22b3e08d-7cb7-4e6e-9ef3-08e5535a3ddd",
      "metadata": {},
      "source": [
        ":::\n",
        "\n",
        "### Identify the ecoregion for each observation\n",
        "\n",
        "You can combine the ecoregions and the observations **spatially** using\n",
        "a method called `.sjoin()`, which stands for spatial join.\n",
        "\n",
        "<link rel=\"stylesheet\" type=\"text/css\" href=\"./assets/styles.css\"><div class=\"callout callout-style-default callout-titled callout-read\"><div class=\"callout-header\"><div class=\"callout-icon-container\"><i class=\"callout-icon\"></i></div><div class=\"callout-title-container flex-fill\">Read More</div></div><div class=\"callout-body-container callout-body\"><p>Check out the <a\n",
        "href=\"https://geopandas.org/en/stable/docs/user_guide/mergingdata.html#spatial-joins\"><code>geopandas</code>\n",
        "documentation on spatial joins</a> to help you figure this one out. You\n",
        "can also ask your favorite LLM (Large-Language Model, like ChatGPT)</p></div></div>\n",
        "\n",
        "<link rel=\"stylesheet\" type=\"text/css\" href=\"./assets/styles.css\"><div class=\"callout callout-style-default callout-titled callout-task\"><div class=\"callout-header\"><div class=\"callout-icon-container\"><i class=\"callout-icon\"></i></div><div class=\"callout-title-container flex-fill\">Try It: Perform a spatial join</div></div><div class=\"callout-body-container callout-body\"><p>Identify the correct values for the <code>how=</code> and\n",
        "<code>predicate=</code> parameters of the spatial join.</p></div></div>"
      ]
    },
    {
      "cell_type": "code",
      "execution_count": 45,
      "id": "51937995",
      "metadata": {},
      "outputs": [],
      "source": [
        "import geopandas as gpd"
      ]
    },
    {
      "cell_type": "code",
      "execution_count": 46,
      "id": "cf80a6bc",
      "metadata": {
        "template": "student"
      },
      "outputs": [
        {
          "data": {
            "text/html": [
              "<div>\n",
              "<style scoped>\n",
              "    .dataframe tbody tr th:only-of-type {\n",
              "        vertical-align: middle;\n",
              "    }\n",
              "\n",
              "    .dataframe tbody tr th {\n",
              "        vertical-align: top;\n",
              "    }\n",
              "\n",
              "    .dataframe thead th {\n",
              "        text-align: right;\n",
              "    }\n",
              "</style>\n",
              "<table border=\"1\" class=\"dataframe\">\n",
              "  <thead>\n",
              "    <tr style=\"text-align: right;\">\n",
              "      <th></th>\n",
              "      <th>observation_id</th>\n",
              "      <th>month</th>\n",
              "    </tr>\n",
              "    <tr>\n",
              "      <th>ecoregion</th>\n",
              "      <th></th>\n",
              "      <th></th>\n",
              "    </tr>\n",
              "  </thead>\n",
              "  <tbody>\n",
              "    <tr>\n",
              "      <th>8</th>\n",
              "      <td>130905</td>\n",
              "      <td>1</td>\n",
              "    </tr>\n",
              "    <tr>\n",
              "      <th>8</th>\n",
              "      <td>161219</td>\n",
              "      <td>11</td>\n",
              "    </tr>\n",
              "    <tr>\n",
              "      <th>8</th>\n",
              "      <td>35864</td>\n",
              "      <td>11</td>\n",
              "    </tr>\n",
              "    <tr>\n",
              "      <th>8</th>\n",
              "      <td>150354</td>\n",
              "      <td>5</td>\n",
              "    </tr>\n",
              "    <tr>\n",
              "      <th>8</th>\n",
              "      <td>221291</td>\n",
              "      <td>5</td>\n",
              "    </tr>\n",
              "    <tr>\n",
              "      <th>...</th>\n",
              "      <td>...</td>\n",
              "      <td>...</td>\n",
              "    </tr>\n",
              "    <tr>\n",
              "      <th>1997</th>\n",
              "      <td>2297</td>\n",
              "      <td>1</td>\n",
              "    </tr>\n",
              "    <tr>\n",
              "      <th>1997</th>\n",
              "      <td>163385</td>\n",
              "      <td>1</td>\n",
              "    </tr>\n",
              "    <tr>\n",
              "      <th>1997</th>\n",
              "      <td>238961</td>\n",
              "      <td>1</td>\n",
              "    </tr>\n",
              "    <tr>\n",
              "      <th>1997</th>\n",
              "      <td>50851</td>\n",
              "      <td>4</td>\n",
              "    </tr>\n",
              "    <tr>\n",
              "      <th>1997</th>\n",
              "      <td>210034</td>\n",
              "      <td>12</td>\n",
              "    </tr>\n",
              "  </tbody>\n",
              "</table>\n",
              "<p>202951 rows × 2 columns</p>\n",
              "</div>"
            ],
            "text/plain": [
              "           observation_id  month\n",
              "ecoregion                       \n",
              "8                  130905      1\n",
              "8                  161219     11\n",
              "8                   35864     11\n",
              "8                  150354      5\n",
              "8                  221291      5\n",
              "...                   ...    ...\n",
              "1997                 2297      1\n",
              "1997               163385      1\n",
              "1997               238961      1\n",
              "1997                50851      4\n",
              "1997               210034     12\n",
              "\n",
              "[202951 rows x 2 columns]"
            ]
          },
          "execution_count": 46,
          "metadata": {},
          "output_type": "execute_result"
        }
      ],
      "source": [
        "pelican_eco_gdf = pelican_eco_gdf.rename_axis('ecoregion') \n",
        "\n",
        "pelican_eco_df = (\n",
        "    pelican_eco_gdf\n",
        "    # Match the CRS of the GBIF data and the ecoregions\n",
        "    .to_crs(pelican_gdf.crs)\n",
        "    # Find ecoregion for each observation\n",
        "    .sjoin(\n",
        "        pelican_gdf,\n",
        "        how='inner', \n",
        "        predicate='contains')\n",
        "    # Select the required columns\n",
        "    [['index_right', 'month']]\n",
        "    .rename(columns={\n",
        "        'index_right': 'observation_id'\n",
        "    })\n",
        "    )    \n",
        "\n",
        "pelican_eco_df"
      ]
    },
    {
      "cell_type": "markdown",
      "id": "3c6e544c-b550-4833-be00-5cbc5d3f835e",
      "metadata": {},
      "source": [
        "### Count the observations in each ecoregion each month\n",
        "\n",
        "<link rel=\"stylesheet\" type=\"text/css\" href=\"./assets/styles.css\"><div class=\"callout callout-style-default callout-titled callout-task\"><div class=\"callout-header\"><div class=\"callout-icon-container\"><i class=\"callout-icon\"></i></div><div class=\"callout-title-container flex-fill\">Try It: Group observations by ecoregion</div></div><div class=\"callout-body-container callout-body\"><ol type=\"1\">\n",
        "<li>Replace <code>columns_to_group_by</code> with a list of columns.\n",
        "Keep in mind that you will end up with one row for each group – you want\n",
        "to count the observations in each ecoregion by month.</li>\n",
        "<li>Select only month/ecosystem combinations that have more than one\n",
        "occurrence recorded, since a single occurrence could be an error.</li>\n",
        "<li>Use the <code>.groupby()</code> and <code>.mean()</code> methods to\n",
        "compute the mean occurrences by ecoregion and by month.</li>\n",
        "<li>Run the code – it will normalize the number of occurrences by month\n",
        "and ecoretion.</li>\n",
        "</ol></div></div>"
      ]
    },
    {
      "cell_type": "code",
      "execution_count": 52,
      "id": "28fb5682",
      "metadata": {
        "template": "student"
      },
      "outputs": [],
      "source": [
        "pelican_occurrence_df = (\n",
        "    pelican_eco_df\n",
        "    # For each ecoregion, for each month...\n",
        "    .groupby(['ecoregion', 'month'])\n",
        "    # ...count the number of occurrences\n",
        "    .agg(occurrences=('observation_id', 'count'))\n",
        ")\n"
      ]
    },
    {
      "cell_type": "code",
      "execution_count": 53,
      "id": "2e866929",
      "metadata": {},
      "outputs": [],
      "source": [
        "# Get rid of rare observations (possible misidentification?)\n",
        "# We only want rows where occurrences are greater than one\n",
        "pelican_occurrence_df = pelican_occurrence_df[pelican_occurrence_df.occurrences > 1]\n",
        "\n",
        "# Take the mean by ecoregion\n",
        "mean_occurrences_by_ecoregion = (\n",
        "    pelican_occurrence_df\n",
        "    .groupby('ecoregion')\n",
        "    .mean()\n",
        ")\n",
        "# Take the mean by month\n",
        "mean_occurrences_by_month = (\n",
        "    pelican_occurrence_df\n",
        "    .groupby('month')\n",
        "    .mean()\n",
        ")\n"
      ]
    },
    {
      "cell_type": "markdown",
      "id": "1296023c-3260-4be2-9e58-e5a1a7a878e9",
      "metadata": {},
      "source": [
        "### Normalize the observations\n",
        "\n",
        "<link rel=\"stylesheet\" type=\"text/css\" href=\"./assets/styles.css\"><div class=\"callout callout-style-default callout-titled callout-task\"><div class=\"callout-header\"><div class=\"callout-icon-container\"><i class=\"callout-icon\"></i></div><div class=\"callout-title-container flex-fill\">Try It: Normalize</div></div><div class=\"callout-body-container callout-body\"><ol type=\"1\">\n",
        "<li>Divide occurrences by the mean occurrences by month AND the mean\n",
        "occurrences by ecoregion</li>\n",
        "</ol></div></div>"
      ]
    },
    {
      "cell_type": "code",
      "execution_count": 54,
      "id": "79b59e7f",
      "metadata": {},
      "outputs": [],
      "source": [
        "# Normalize by space and time for sampling effort\n",
        "\n",
        "pelican_occurrence_df['norm_occurrences'] = (\n",
        "    pelican_occurrence_df\n",
        "    / mean_occurrences_by_ecoregion\n",
        "    / mean_occurrences_by_month\n",
        ")"
      ]
    },
    {
      "cell_type": "markdown",
      "id": "f4af789e-4b89-4a6f-a39b-a45651239da4",
      "metadata": {},
      "source": [
        "<link rel=\"stylesheet\" type=\"text/css\" href=\"./assets/styles.css\"><div class=\"callout callout-style-default callout-titled callout-task\"><div class=\"callout-header\"><div class=\"callout-icon-container\"><i class=\"callout-icon\"></i></div><div class=\"callout-title-container flex-fill\">Try It</div></div><div class=\"callout-body-container callout-body\"><p>Make sure to store the new version of your <code>DataFrame</code> for\n",
        "other notebooks!</p>\n",
        "<div id=\"f13606e9\" class=\"cell\" data-execution_count=\"9\">\n",
        "<div class=\"sourceCode\" id=\"cb1\"><pre\n",
        "class=\"sourceCode python cell-code\"><code class=\"sourceCode python\"><span id=\"cb1-1\"><a href=\"#cb1-1\" aria-hidden=\"true\" tabindex=\"-1\"></a><span class=\"op\">%</span>store occurrence_df</span></code></pre></div>\n",
        "</div></div></div>\n",
        "\n",
        "# STEP -1: Wrap up\n",
        "\n",
        "Don’t forget to store your variables so you can use them in other\n",
        "notebooks! Replace `var1` and `var2` with the variable you want to save,\n",
        "separated by spaces."
      ]
    },
    {
      "cell_type": "code",
      "execution_count": 55,
      "id": "b2649d00",
      "metadata": {},
      "outputs": [
        {
          "name": "stdout",
          "output_type": "stream",
          "text": [
            "Stored 'pelican_occurrence_df' (DataFrame)\n",
            "Stored 'pelican_gdf' (GeoDataFrame)\n",
            "Stored 'eco_gdf' (GeoDataFrame)\n"
          ]
        }
      ],
      "source": [
        "%store pelican_occurrence_df pelican_gdf eco_gdf"
      ]
    },
    {
      "cell_type": "markdown",
      "id": "db475433-fdc1-49f8-bc5a-001207943236",
      "metadata": {},
      "source": [
        "Finally, be sure to `Restart` and `Run all` to make sure your notebook\n",
        "works all the way through!"
      ]
    }
  ],
  "metadata": {
    "kernelspec": {
      "display_name": "earth-analytics-python",
      "language": "python",
      "name": "python3"
    },
    "language_info": {
      "codemirror_mode": {
        "name": "ipython",
        "version": 3
      },
      "file_extension": ".py",
      "mimetype": "text/x-python",
      "name": "python",
      "nbconvert_exporter": "python",
      "pygments_lexer": "ipython3",
      "version": "3.11.13"
    }
  },
  "nbformat": 4,
  "nbformat_minor": 5
}
