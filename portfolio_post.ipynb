{
  "cells": [
    {
      "cell_type": "markdown",
      "id": "70525429",
      "metadata": {},
      "source": [
        "# Title\n",
        "\n",
        "## Species description\n",
        "Why did you choose this species Is there any relevant info about it that makes its migration interesting?\n",
        "\n",
        "## Data description\n",
        "Ecoregion\n",
        "GBIF Occurrences\n",
        "... with citations\n",
        "\n",
        "## Methods description\n"
      ]
    }
  ],
  "metadata": {
    "kernelspec": {
      "display_name": "Learning Portal",
      "language": "python",
      "name": "learning-portal"
    },
    "language_info": {
      "codemirror_mode": {
        "name": "ipython",
        "version": "3"
      },
      "file_extension": ".py",
      "mimetype": "text/x-python",
      "name": "python",
      "nbconvert_exporter": "python",
      "pygments_lexer": "ipython3",
      "version": "3.11.13"
    }
  },
  "nbformat": 4,
  "nbformat_minor": 5
}
